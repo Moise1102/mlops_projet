{
 "cells": [
  {
   "cell_type": "markdown",
   "id": "5384547c",
   "metadata": {},
   "source": [
    "  # FOODCAST"
   ]
  },
  {
   "attachments": {},
   "cell_type": "markdown",
   "id": "e8ebc179",
   "metadata": {},
   "source": [
    "<hr style=\"border:2px solid white\"> </hr>\n",
    "\n",
    "le but ici est de construire un modèle qui permet de prédire si une personne (selon ses caractéristiques) gagnera plus de 2 000 € ou non."
   ]
  },
  {
   "attachments": {},
   "cell_type": "markdown",
   "id": "5f74fd51",
   "metadata": {},
   "source": [
    "Dans la suite, nous aurons besoin des fonctions suivantes."
   ]
  },
  {
   "cell_type": "code",
   "execution_count": 1,
   "id": "331cd3e1",
   "metadata": {},
   "outputs": [],
   "source": [
    "import sys\n",
    "sys.path.append('..')\n",
    "from foodcast.infrastructure.extract import extract\n",
    "from foodcast.domain.transform import etl\n",
    "from foodcast.domain.transform import calculate_cramer_v\n",
    "from foodcast.domain.transform import plot_cramer_heatmap\n",
    "from foodcast.domain.multi_model import model"
   ]
  },
  {
   "attachments": {},
   "cell_type": "markdown",
   "id": "3e62b5c6",
   "metadata": {},
   "source": [
    "  ##### Chargement et nettoyage des données"
   ]
  },
  {
   "attachments": {},
   "cell_type": "markdown",
   "id": "05cf77ef",
   "metadata": {},
   "source": [
    "Voici la descriptions de la fonction ETL"
   ]
  },
  {
   "cell_type": "code",
   "execution_count": 7,
   "id": "82b933e7",
   "metadata": {},
   "outputs": [
    {
     "name": "stdout",
     "output_type": "stream",
     "text": [
      "\u001b[1;31mSignature:\u001b[0m \u001b[0metl\u001b[0m\u001b[1;33m(\u001b[0m\u001b[0mchemin_data\u001b[0m\u001b[1;33m:\u001b[0m \u001b[0mstr\u001b[0m\u001b[1;33m,\u001b[0m \u001b[0mcolonnes_a_retirer\u001b[0m\u001b[1;33m:\u001b[0m \u001b[0mlist\u001b[0m\u001b[1;33m,\u001b[0m \u001b[0mvariables\u001b[0m\u001b[1;33m:\u001b[0m \u001b[0mlist\u001b[0m\u001b[1;33m)\u001b[0m \u001b[1;33m->\u001b[0m \u001b[0mpandas\u001b[0m\u001b[1;33m.\u001b[0m\u001b[0mcore\u001b[0m\u001b[1;33m.\u001b[0m\u001b[0mframe\u001b[0m\u001b[1;33m.\u001b[0m\u001b[0mDataFrame\u001b[0m\u001b[1;33m\u001b[0m\u001b[1;33m\u001b[0m\u001b[0m\n",
      "\u001b[1;31mDocstring:\u001b[0m\n",
      "fonction qui prend un dataframe fait toute les transformation nécéssaire\n",
      "et la charge \n",
      "\n",
      "Parameters:\n",
      "---------------\n",
      "- chemin_data (str) : chemin vers le fichier\n",
      "\n",
      "- colonnes_a_retirer (list) : list des colonnes à retirer\n",
      "\n",
      "- variables (list) : variables pour laquelle ont veux calculer les données abbérantes \n",
      "\n",
      "\n",
      "Return :\n",
      "Un DataFrame propre et recoder prêt à l'emploi\n",
      "\u001b[1;31mFile:\u001b[0m      \\\\ad.univ-lille.fr\\etudiants\\homedir3\\142068\\documents\\mlops_projet\\foodcast\\domain\\transform.py\n",
      "\u001b[1;31mType:\u001b[0m      function"
     ]
    }
   ],
   "source": [
    "etl?"
   ]
  },
  {
   "attachments": {},
   "cell_type": "markdown",
   "id": "766fc8ca",
   "metadata": {},
   "source": [
    "La fonction ETL est employée pour préparer la base de données destinée à la modélisation."
   ]
  },
  {
   "cell_type": "code",
   "execution_count": 4,
   "id": "48a7c7ae",
   "metadata": {},
   "outputs": [],
   "source": [
    "data = etl('../data/fichier.csv', ['DIPL0', 'DIPL1', 'DIPL2a', 'DIPL2b', 'DIPL2c', 'DIPL3',\n",
    "       'DIPL4', 'DIPL5a', 'DIPL5b', 'DIPL6a', 'DIPL6b', 'DIPL6c', 'DIPL7'],['AGE13'])"
   ]
  },
  {
   "attachments": {},
   "cell_type": "markdown",
   "id": "4a1c83b9",
   "metadata": {},
   "source": [
    "Suite à l'application de la fonction ETL, les données sont affichées pour permettre une observation approfondie de leur structure."
   ]
  },
  {
   "cell_type": "code",
   "execution_count": 5,
   "id": "28a36b9b",
   "metadata": {},
   "outputs": [
    {
     "data": {
      "text/html": [
       "<div>\n",
       "<style scoped>\n",
       "    .dataframe tbody tr th:only-of-type {\n",
       "        vertical-align: middle;\n",
       "    }\n",
       "\n",
       "    .dataframe tbody tr th {\n",
       "        vertical-align: top;\n",
       "    }\n",
       "\n",
       "    .dataframe thead th {\n",
       "        text-align: right;\n",
       "    }\n",
       "</style>\n",
       "<table border=\"1\" class=\"dataframe\">\n",
       "  <thead>\n",
       "    <tr style=\"text-align: right;\">\n",
       "      <th></th>\n",
       "      <th>CFA</th>\n",
       "      <th>Q1</th>\n",
       "      <th>AGE13</th>\n",
       "      <th>PHD</th>\n",
       "      <th>CA9C</th>\n",
       "      <th>CA10C</th>\n",
       "      <th>CA11</th>\n",
       "      <th>CA12</th>\n",
       "      <th>SALAIRE</th>\n",
       "    </tr>\n",
       "  </thead>\n",
       "  <tbody>\n",
       "    <tr>\n",
       "      <th>0</th>\n",
       "      <td>2</td>\n",
       "      <td>1</td>\n",
       "      <td>25</td>\n",
       "      <td>6</td>\n",
       "      <td>5</td>\n",
       "      <td>9</td>\n",
       "      <td>6.0</td>\n",
       "      <td>5.0</td>\n",
       "      <td>1</td>\n",
       "    </tr>\n",
       "    <tr>\n",
       "      <th>1</th>\n",
       "      <td>2</td>\n",
       "      <td>2</td>\n",
       "      <td>24</td>\n",
       "      <td>6</td>\n",
       "      <td>3</td>\n",
       "      <td>2</td>\n",
       "      <td>4.0</td>\n",
       "      <td>4.0</td>\n",
       "      <td>1</td>\n",
       "    </tr>\n",
       "    <tr>\n",
       "      <th>2</th>\n",
       "      <td>2</td>\n",
       "      <td>1</td>\n",
       "      <td>21</td>\n",
       "      <td>4</td>\n",
       "      <td>4</td>\n",
       "      <td>9</td>\n",
       "      <td>3.0</td>\n",
       "      <td>5.0</td>\n",
       "      <td>1</td>\n",
       "    </tr>\n",
       "    <tr>\n",
       "      <th>3</th>\n",
       "      <td>2</td>\n",
       "      <td>1</td>\n",
       "      <td>25</td>\n",
       "      <td>5</td>\n",
       "      <td>4</td>\n",
       "      <td>2</td>\n",
       "      <td>6.0</td>\n",
       "      <td>3.0</td>\n",
       "      <td>1</td>\n",
       "    </tr>\n",
       "    <tr>\n",
       "      <th>4</th>\n",
       "      <td>2</td>\n",
       "      <td>1</td>\n",
       "      <td>22</td>\n",
       "      <td>6</td>\n",
       "      <td>3</td>\n",
       "      <td>9</td>\n",
       "      <td>3.0</td>\n",
       "      <td>1.0</td>\n",
       "      <td>1</td>\n",
       "    </tr>\n",
       "    <tr>\n",
       "      <th>...</th>\n",
       "      <td>...</td>\n",
       "      <td>...</td>\n",
       "      <td>...</td>\n",
       "      <td>...</td>\n",
       "      <td>...</td>\n",
       "      <td>...</td>\n",
       "      <td>...</td>\n",
       "      <td>...</td>\n",
       "      <td>...</td>\n",
       "    </tr>\n",
       "    <tr>\n",
       "      <th>5995</th>\n",
       "      <td>2</td>\n",
       "      <td>2</td>\n",
       "      <td>22</td>\n",
       "      <td>6</td>\n",
       "      <td>4</td>\n",
       "      <td>4</td>\n",
       "      <td>5.0</td>\n",
       "      <td>6.0</td>\n",
       "      <td>1</td>\n",
       "    </tr>\n",
       "    <tr>\n",
       "      <th>5996</th>\n",
       "      <td>2</td>\n",
       "      <td>1</td>\n",
       "      <td>24</td>\n",
       "      <td>6</td>\n",
       "      <td>3</td>\n",
       "      <td>2</td>\n",
       "      <td>2.0</td>\n",
       "      <td>3.0</td>\n",
       "      <td>1</td>\n",
       "    </tr>\n",
       "    <tr>\n",
       "      <th>5997</th>\n",
       "      <td>2</td>\n",
       "      <td>1</td>\n",
       "      <td>22</td>\n",
       "      <td>6</td>\n",
       "      <td>2</td>\n",
       "      <td>2</td>\n",
       "      <td>3.0</td>\n",
       "      <td>5.0</td>\n",
       "      <td>1</td>\n",
       "    </tr>\n",
       "    <tr>\n",
       "      <th>5998</th>\n",
       "      <td>2</td>\n",
       "      <td>1</td>\n",
       "      <td>23</td>\n",
       "      <td>6</td>\n",
       "      <td>5</td>\n",
       "      <td>4</td>\n",
       "      <td>3.0</td>\n",
       "      <td>4.0</td>\n",
       "      <td>1</td>\n",
       "    </tr>\n",
       "    <tr>\n",
       "      <th>5999</th>\n",
       "      <td>2</td>\n",
       "      <td>1</td>\n",
       "      <td>25</td>\n",
       "      <td>6</td>\n",
       "      <td>4</td>\n",
       "      <td>4</td>\n",
       "      <td>6.0</td>\n",
       "      <td>6.0</td>\n",
       "      <td>1</td>\n",
       "    </tr>\n",
       "  </tbody>\n",
       "</table>\n",
       "<p>5667 rows × 9 columns</p>\n",
       "</div>"
      ],
      "text/plain": [
       "      CFA  Q1  AGE13  PHD  CA9C  CA10C  CA11  CA12  SALAIRE\n",
       "0       2   1     25    6     5      9   6.0   5.0        1\n",
       "1       2   2     24    6     3      2   4.0   4.0        1\n",
       "2       2   1     21    4     4      9   3.0   5.0        1\n",
       "3       2   1     25    5     4      2   6.0   3.0        1\n",
       "4       2   1     22    6     3      9   3.0   1.0        1\n",
       "...   ...  ..    ...  ...   ...    ...   ...   ...      ...\n",
       "5995    2   2     22    6     4      4   5.0   6.0        1\n",
       "5996    2   1     24    6     3      2   2.0   3.0        1\n",
       "5997    2   1     22    6     2      2   3.0   5.0        1\n",
       "5998    2   1     23    6     5      4   3.0   4.0        1\n",
       "5999    2   1     25    6     4      4   6.0   6.0        1\n",
       "\n",
       "[5667 rows x 9 columns]"
      ]
     },
     "execution_count": 5,
     "metadata": {},
     "output_type": "execute_result"
    }
   ],
   "source": [
    "data"
   ]
  },
  {
   "attachments": {},
   "cell_type": "markdown",
   "id": "3a4fc5b1",
   "metadata": {},
   "source": [
    "  ##### V de cramer"
   ]
  },
  {
   "attachments": {},
   "cell_type": "markdown",
   "id": "cdeb4896",
   "metadata": {},
   "source": [
    "Voici la descriptions de la fonction calculate_cramer_v"
   ]
  },
  {
   "cell_type": "code",
   "execution_count": 6,
   "id": "370b6dea",
   "metadata": {},
   "outputs": [
    {
     "name": "stdout",
     "output_type": "stream",
     "text": [
      "\u001b[1;31mSignature:\u001b[0m\n",
      "\u001b[0mcalculate_cramer_v\u001b[0m\u001b[1;33m(\u001b[0m\u001b[1;33m\n",
      "\u001b[0m    \u001b[0mdata\u001b[0m\u001b[1;33m:\u001b[0m \u001b[0mpandas\u001b[0m\u001b[1;33m.\u001b[0m\u001b[0mcore\u001b[0m\u001b[1;33m.\u001b[0m\u001b[0mframe\u001b[0m\u001b[1;33m.\u001b[0m\u001b[0mDataFrame\u001b[0m\u001b[1;33m,\u001b[0m\u001b[1;33m\n",
      "\u001b[0m    \u001b[0mcategorical_vars\u001b[0m\u001b[1;33m:\u001b[0m \u001b[0mlist\u001b[0m\u001b[1;33m,\u001b[0m\u001b[1;33m\n",
      "\u001b[0m\u001b[1;33m)\u001b[0m \u001b[1;33m->\u001b[0m \u001b[0mpandas\u001b[0m\u001b[1;33m.\u001b[0m\u001b[0mcore\u001b[0m\u001b[1;33m.\u001b[0m\u001b[0mframe\u001b[0m\u001b[1;33m.\u001b[0m\u001b[0mDataFrame\u001b[0m\u001b[1;33m\u001b[0m\u001b[1;33m\u001b[0m\u001b[0m\n",
      "\u001b[1;31mDocstring:\u001b[0m\n",
      "Calcule le V de Cramer pour chaque paire de variables catégorielles dans le DataFrame.\n",
      "\n",
      "Parameters:\n",
      "- data (pd.DataFrame): Le DataFrame contenant les données.\n",
      "- categorical_vars (list): La liste des noms de variables catégorielles.\n",
      "\n",
      "Returns:\n",
      "- pd.DataFrame: Un DataFrame contenant les valeurs du V de Cramer pour chaque paire de variables.\n",
      "\u001b[1;31mFile:\u001b[0m      \\\\ad.univ-lille.fr\\etudiants\\homedir3\\142068\\documents\\mlops_projet\\foodcast\\domain\\transform.py\n",
      "\u001b[1;31mType:\u001b[0m      function"
     ]
    }
   ],
   "source": [
    "calculate_cramer_v?"
   ]
  },
  {
   "attachments": {},
   "cell_type": "markdown",
   "id": "96b2aceb",
   "metadata": {},
   "source": [
    "La fonction calculate_cramer_v est appliquée à la base de données préalablement nettoyée. "
   ]
  },
  {
   "cell_type": "code",
   "execution_count": 8,
   "id": "30e783ca",
   "metadata": {},
   "outputs": [],
   "source": [
    "datacramer = calculate_cramer_v(data,['CFA', 'AGE13', 'PHD', 'CA9C', 'CA10C', 'CA11', 'CA12', 'SALAIRE'])"
   ]
  },
  {
   "attachments": {},
   "cell_type": "markdown",
   "id": "e494b116",
   "metadata": {},
   "source": [
    "Voici la descriptions de la fonction plot_cramer_heatmap"
   ]
  },
  {
   "cell_type": "code",
   "execution_count": 9,
   "id": "4e9925f0",
   "metadata": {},
   "outputs": [
    {
     "name": "stdout",
     "output_type": "stream",
     "text": [
      "\u001b[1;31mSignature:\u001b[0m \u001b[0mplot_cramer_heatmap\u001b[0m\u001b[1;33m(\u001b[0m\u001b[0mcramer_df\u001b[0m\u001b[1;33m:\u001b[0m \u001b[0mpandas\u001b[0m\u001b[1;33m.\u001b[0m\u001b[0mcore\u001b[0m\u001b[1;33m.\u001b[0m\u001b[0mframe\u001b[0m\u001b[1;33m.\u001b[0m\u001b[0mDataFrame\u001b[0m\u001b[1;33m)\u001b[0m\u001b[1;33m\u001b[0m\u001b[1;33m\u001b[0m\u001b[0m\n",
      "\u001b[1;31mDocstring:\u001b[0m\n",
      "Crée et affiche une heatmap du V de Cramer.\n",
      "\n",
      "Parameters:\n",
      "- cramer_df (pd.DataFrame): Le DataFrame contenant les valeurs du V de Cramer.\n",
      "\u001b[1;31mFile:\u001b[0m      \\\\ad.univ-lille.fr\\etudiants\\homedir3\\142068\\documents\\mlops_projet\\foodcast\\domain\\transform.py\n",
      "\u001b[1;31mType:\u001b[0m      function"
     ]
    }
   ],
   "source": [
    "plot_cramer_heatmap?"
   ]
  },
  {
   "attachments": {},
   "cell_type": "markdown",
   "id": "04b52cbe",
   "metadata": {},
   "source": [
    "La fonction plot_cramer_heatmap est employée pour visualiser de manière graphique les valeurs de Cramer's V obtenues précédemment. Cette représentation sous forme de heatmap permet une observation visuelle des relations et des niveaux de corrélation entre les variables de la base de données."
   ]
  },
  {
   "cell_type": "code",
   "execution_count": 10,
   "id": "4c8b675a",
   "metadata": {},
   "outputs": [
    {
     "data": {
      "image/png": "[encoded data removed]",
      "text/plain": [
       "<Figure size 1200x800 with 2 Axes>"
      ]
     },
     "metadata": {},
     "output_type": "display_data"
    }
   ],
   "source": [
    "plot_cramer_heatmap(datacramer)"
   ]
  },
  {
   "attachments": {},
   "cell_type": "markdown",
   "id": "f85905f7",
   "metadata": {},
   "source": [
    "  ##### Modélisation"
   ]
  },
  {
   "attachments": {},
   "cell_type": "markdown",
   "id": "d6a148f1",
   "metadata": {},
   "source": [
    "Voici la descriptions de la fonction model"
   ]
  },
  {
   "cell_type": "code",
   "execution_count": 12,
   "id": "5392c501",
   "metadata": {},
   "outputs": [
    {
     "name": "stdout",
     "output_type": "stream",
     "text": [
      "\u001b[1;31mSignature:\u001b[0m \u001b[0mmodel\u001b[0m\u001b[1;33m(\u001b[0m\u001b[0mdata\u001b[0m\u001b[1;33m:\u001b[0m \u001b[0mpandas\u001b[0m\u001b[1;33m.\u001b[0m\u001b[0mcore\u001b[0m\u001b[1;33m.\u001b[0m\u001b[0mframe\u001b[0m\u001b[1;33m.\u001b[0m\u001b[0mDataFrame\u001b[0m\u001b[1;33m)\u001b[0m\u001b[1;33m\u001b[0m\u001b[1;33m\u001b[0m\u001b[0m\n",
      "\u001b[1;31mDocstring:\u001b[0m\n",
      "Entraîne et évalue plusieurs modèles de classification sur le DataFrame d'entrée.\n",
      "\n",
      "Parameters:\n",
      "- data (pd.DataFrame): Le DataFrame contenant les données. Il doit inclure une colonne 'SALAIRE' comme variable cible.\n",
      "\n",
      "Returns:\n",
      "- pd.DataFrame: Un DataFrame contenant les résultats de l'évaluation des modèles.\n",
      "\n",
      "Cette fonction effectue les étapes suivantes :\n",
      "1. Divise les données d'entrée en ensembles d'entraînement et de test.\n",
      "2. Définit un ensemble de modèles de classification, y compris DecisionTree, KNeighbors, LogisticRegression et RandomForest.\n",
      "3. Spécifie des grilles d'hyperparamètres pour chaque modèle pour l'ajustement des hyperparamètres.\n",
      "4. Itère sur chaque modèle, créant un pipeline avec ou sans mise à l'échelle en fonction du type de modèle.\n",
      "5. Utilise GridSearchCV pour trouver les meilleurs hyperparamètres pour chaque modèle.\n",
      "6. Affiche et enregistre les meilleurs hyperparamètres, la précision, le score et le rapport de classification pour chaque modèle sur l'ensemble de test.\n",
      "\n",
      "Remarque : Cette fonction suppose que la variable cible est 'SALAIRE' dans le DataFrame d'entrée.\n",
      "\n",
      "Example:\n",
      "data = pd.read_csv('votre_data.csv')\n",
      "results = model(data)\n",
      "\u001b[1;31mFile:\u001b[0m      \\\\ad.univ-lille.fr\\etudiants\\homedir3\\142068\\documents\\mlops_projet\\foodcast\\domain\\multi_model.py\n",
      "\u001b[1;31mType:\u001b[0m      function"
     ]
    }
   ],
   "source": [
    "model?"
   ]
  },
  {
   "attachments": {},
   "cell_type": "markdown",
   "id": "8dc64163",
   "metadata": {},
   "source": [
    "Dans cette section, nous présentons les résultats de l'évaluation de plusieurs modèles de classification visant à prédire si une personne, en fonction de ses caractéristiques, gagnera plus de 2 000 € ou non. Les modèles inclus sont DecisionTree, KNeighbors, LogisticRegression, et RandomForest. Les résultats comprennent les meilleurs paramètres pour chaque modèle, la précision, le score, et le rapport de classification sur l'ensemble de test. \\\n",
    "Les résultats détaillés pour chaque modèle sont présentés ci-dessous :"
   ]
  },
  {
   "cell_type": "code",
   "execution_count": 11,
   "id": "c280190e",
   "metadata": {},
   "outputs": [
    {
     "name": "stdout",
     "output_type": "stream",
     "text": [
      "Best parameters for DecisionTree: {'model__criterion': 'entropy', 'model__max_depth': 5}\n",
      "Accuracy for DecisionTree: 0.8597883597883598\n",
      "Score for DecisionTree: 0.8597883597883598\n",
      "Classification Report for DecisionTree:\n",
      "              precision    recall  f1-score   support\n",
      "\n",
      "           0       0.88      0.95      0.91       871\n",
      "           1       0.77      0.56      0.65       263\n",
      "\n",
      "    accuracy                           0.86      1134\n",
      "   macro avg       0.83      0.75      0.78      1134\n",
      "weighted avg       0.85      0.86      0.85      1134\n",
      "\n",
      "================================================================================\n",
      "Best parameters for KNeighbors: {'model__n_neighbors': 7, 'model__weights': 'uniform'}\n",
      "Accuracy for KNeighbors: 0.8201058201058201\n",
      "Score for KNeighbors: 0.8201058201058201\n",
      "Classification Report for KNeighbors:\n",
      "              precision    recall  f1-score   support\n",
      "\n",
      "           0       0.86      0.92      0.89       871\n",
      "           1       0.65      0.49      0.56       263\n",
      "\n",
      "    accuracy                           0.82      1134\n",
      "   macro avg       0.75      0.70      0.72      1134\n",
      "weighted avg       0.81      0.82      0.81      1134\n",
      "\n",
      "================================================================================\n"
     ]
    },
    {
     "name": "stderr",
     "output_type": "stream",
     "text": [
      "c:\\ProgramData\\anaconda3\\lib\\site-packages\\sklearn\\model_selection\\_validation.py:378: FitFailedWarning: \n",
      "15 fits failed out of a total of 30.\n",
      "The score on these train-test partitions for these parameters will be set to nan.\n",
      "If these failures are not expected, you can try to debug them by setting error_score='raise'.\n",
      "\n",
      "Below are more details about the failures:\n",
      "--------------------------------------------------------------------------------\n",
      "15 fits failed with the following error:\n",
      "Traceback (most recent call last):\n",
      "  File \"c:\\ProgramData\\anaconda3\\lib\\site-packages\\sklearn\\model_selection\\_validation.py\", line 686, in _fit_and_score\n",
      "    estimator.fit(X_train, y_train, **fit_params)\n",
      "  File \"c:\\ProgramData\\anaconda3\\lib\\site-packages\\sklearn\\pipeline.py\", line 405, in fit\n",
      "    self._final_estimator.fit(Xt, y, **fit_params_last_step)\n",
      "  File \"c:\\ProgramData\\anaconda3\\lib\\site-packages\\sklearn\\linear_model\\_logistic.py\", line 1162, in fit\n",
      "    solver = _check_solver(self.solver, self.penalty, self.dual)\n",
      "  File \"c:\\ProgramData\\anaconda3\\lib\\site-packages\\sklearn\\linear_model\\_logistic.py\", line 54, in _check_solver\n",
      "    raise ValueError(\n",
      "ValueError: Solver lbfgs supports only 'l2' or 'none' penalties, got l1 penalty.\n",
      "\n",
      "  warnings.warn(some_fits_failed_message, FitFailedWarning)\n",
      "c:\\ProgramData\\anaconda3\\lib\\site-packages\\sklearn\\model_selection\\_search.py:952: UserWarning: One or more of the test scores are non-finite: [       nan 0.79328719        nan 0.79306644        nan 0.79284569]\n",
      "  warnings.warn(\n"
     ]
    },
    {
     "name": "stdout",
     "output_type": "stream",
     "text": [
      "Best parameters for LogisticRegression: {'model__C': 0.1, 'model__penalty': 'l2'}\n",
      "Accuracy for LogisticRegression: 0.8156966490299824\n",
      "Score for LogisticRegression: 0.8156966490299824\n",
      "Classification Report for LogisticRegression:\n",
      "              precision    recall  f1-score   support\n",
      "\n",
      "           0       0.83      0.95      0.89       871\n",
      "           1       0.69      0.38      0.49       263\n",
      "\n",
      "    accuracy                           0.82      1134\n",
      "   macro avg       0.76      0.66      0.69      1134\n",
      "weighted avg       0.80      0.82      0.79      1134\n",
      "\n",
      "================================================================================\n",
      "Best parameters for RandomForest: {'model__criterion': 'entropy', 'model__max_depth': 10, 'model__n_estimators': 200}\n",
      "Accuracy for RandomForest: 0.8544973544973545\n",
      "Score for RandomForest: 0.8544973544973545\n",
      "Classification Report for RandomForest:\n",
      "              precision    recall  f1-score   support\n",
      "\n",
      "           0       0.88      0.94      0.91       871\n",
      "           1       0.74      0.58      0.65       263\n",
      "\n",
      "    accuracy                           0.85      1134\n",
      "   macro avg       0.81      0.76      0.78      1134\n",
      "weighted avg       0.85      0.85      0.85      1134\n",
      "\n",
      "================================================================================\n"
     ]
    }
   ],
   "source": [
    "model(data)"
   ]
  },
  {
   "attachments": {},
   "cell_type": "markdown",
   "id": "41561fa0",
   "metadata": {},
   "source": [
    "Le modèle RandomForest avec une profondeur maximale de 10, un critère d'entropie et 200 estimateurs a été identifié comme le meilleur modèle dans cette évaluation. \\\n",
    "Cette conclusion repose sur sa précision globale de 85,45%, indiquant sa capacité à classifier avec précision les données d'évaluation. La combinaison de nombreux arbres de décision, chacun formé sur une sous-section aléatoire des données, permet à RandomForest de capturer des relations dans les données, tout en réduisant le risque de surajustement. La profondeur limitée à 10 contribue à éviter un surajustement excessif, assurant ainsi une meilleure généralisation du modèle. \\\n",
    "Ces caractéristiques font du modèle RandomForest le meilleur choix pour la tâche de modélisation."
   ]
  }
 ],
 "metadata": {
  "kernelspec": {
   "display_name": "Python 3 (ipykernel)",
   "language": "python",
   "name": "python3"
  },
  "language_info": {
   "codemirror_mode": {
    "name": "ipython",
    "version": 3
   },
   "file_extension": ".py",
   "mimetype": "text/x-python",
   "name": "python",
   "nbconvert_exporter": "python",
   "pygments_lexer": "ipython3",
   "version": "3.10.9"
  }
 },
 "nbformat": 4,
 "nbformat_minor": 5
}
