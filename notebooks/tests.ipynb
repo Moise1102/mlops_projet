{
 "cells": [
  {
   "cell_type": "code",
   "execution_count": null,
   "id": "a6e14562-1f6c-487c-bea9-9828b36f14e2",
   "metadata": {},
   "outputs": [],
   "source": [
    "import pytest # A ajouter aux requirements\n",
    "\n",
    "def test_no_na(data: pd.DataFrame) : \n",
    "    assert data.isnull().sum() == 0\n",
    "\n",
    "def test_salaire_dummy(data: pd.DataFrame) :\n",
    "    assert max(data['SALAIRE']) == 1 and min(data['SALAIRE']) == 0\n",
    "\n",
    "def test_accuracy_score_btwn_0_1(data) :\n",
    "    data <= 1 and >= 0 \n",
    "    "
   ]
  }
 ],
 "metadata": {
  "kernelspec": {
   "display_name": "Python 3 (ipykernel)",
   "language": "python",
   "name": "python3"
  },
  "language_info": {
   "codemirror_mode": {
    "name": "ipython",
    "version": 3
   },
   "file_extension": ".py",
   "mimetype": "text/x-python",
   "name": "python",
   "nbconvert_exporter": "python",
   "pygments_lexer": "ipython3",
   "version": "3.11.0"
  }
 },
 "nbformat": 4,
 "nbformat_minor": 5
}
