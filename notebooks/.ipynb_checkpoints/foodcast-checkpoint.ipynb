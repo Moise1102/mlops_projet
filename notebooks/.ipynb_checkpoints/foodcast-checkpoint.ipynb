{
 "cells": [
  {
   "cell_type": "markdown",
   "id": "5384547c",
   "metadata": {},
   "source": [
    "  # FOODCAST"
   ]
  },
  {
   "cell_type": "code",
   "execution_count": 2,
   "id": "331cd3e1",
   "metadata": {},
   "outputs": [
    {
     "ename": "ModuleNotFoundError",
     "evalue": "No module named 'foodcast'",
     "output_type": "error",
     "traceback": [
      "\u001b[0;31m---------------------------------------------------------------------------\u001b[0m",
      "\u001b[0;31mModuleNotFoundError\u001b[0m                       Traceback (most recent call last)",
      "Cell \u001b[0;32mIn[2], line 1\u001b[0m\n\u001b[0;32m----> 1\u001b[0m \u001b[38;5;28;01mfrom\u001b[39;00m \u001b[38;5;21;01mfoodcast\u001b[39;00m\u001b[38;5;21;01m.\u001b[39;00m\u001b[38;5;21;01minfrastructure\u001b[39;00m\u001b[38;5;21;01m.\u001b[39;00m\u001b[38;5;21;01mextract\u001b[39;00m \u001b[38;5;28;01mimport\u001b[39;00m extract\n",
      "\u001b[0;31mModuleNotFoundError\u001b[0m: No module named 'foodcast'"
     ]
    }
   ],
   "source": [
    "\n",
    "from foodcast.infrastructure.extract import extract"
   ]
  },
  {
   "cell_type": "code",
   "execution_count": null,
   "id": "f430fe10",
   "metadata": {},
   "outputs": [],
   "source": []
  }
 ],
 "metadata": {
  "kernelspec": {
   "display_name": "Python 3 (ipykernel)",
   "language": "python",
   "name": "python3"
  },
  "language_info": {
   "codemirror_mode": {
    "name": "ipython",
    "version": 3
   },
   "file_extension": ".py",
   "mimetype": "text/x-python",
   "name": "python",
   "nbconvert_exporter": "python",
   "pygments_lexer": "ipython3",
   "version": "3.11.5"
  }
 },
 "nbformat": 4,
 "nbformat_minor": 5
}
